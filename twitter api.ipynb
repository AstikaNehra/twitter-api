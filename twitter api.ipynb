{
 "cells": [
  {
   "cell_type": "code",
   "execution_count": 6,
   "metadata": {},
   "outputs": [],
   "source": [
    "from twython import Twython\n",
    "#invoking the contructer of the class\n",
    "#functions or class(Twython) has same name as that of the library(twython)"
   ]
  },
  {
   "cell_type": "code",
   "execution_count": 7,
   "metadata": {},
   "outputs": [],
   "source": [
    "APP_KEY=\"et9DlDLMlPU8M6neNeurzKgxd\" \n",
    "APP_SECRET=\"F5XXP1oSjyF7gpBV4dnRvZOs6mvJANBQxpvBtVagqWHyx6Fa1R\"\n",
    "OAUTH_TOKEN=\"1043883079746519040-HcUU5aIwqGdMfg413XnzHWeTZYZMiH\" \n",
    "OAUTH_TOKEN_SECRET=\"3W6khdD65EsQxLgZg73OVjHwl6O5VqjAYaBBFwv85dtM0\""
   ]
  },
  {
   "cell_type": "code",
   "execution_count": 8,
   "metadata": {},
   "outputs": [],
   "source": [
    "twitter=Twython(APP_KEY,\n",
    "                APP_SECRET,\n",
    "                OAUTH_TOKEN,\n",
    "                OAUTH_TOKEN_SECRET)\n",
    "#4 parameters of class Twython\n",
    "#object-twitter\n",
    "#Twython-class"
   ]
  },
  {
   "cell_type": "code",
   "execution_count": 9,
   "metadata": {},
   "outputs": [],
   "source": [
    "timeline_tweets=twitter.get_home_timeline()\n",
    "#timeline_tweets-member func of Twython class\n",
    "#it is an API-interface which requests for tweets by twitter\n",
    "#getting the tweets from my account "
   ]
  },
  {
   "cell_type": "code",
   "execution_count": 42,
   "metadata": {},
   "outputs": [
    {
     "name": "stdout",
     "output_type": "stream",
     "text": [
      "20\n"
     ]
    }
   ],
   "source": [
    "print (len(timeline_tweets))\n",
    "#no. of tweets"
   ]
  },
  {
   "cell_type": "code",
   "execution_count": 43,
   "metadata": {},
   "outputs": [],
   "source": [
    "tweets=[]\n",
    "for t in timeline_tweets:\n",
    "    #print(\"*******\")\n",
    "    #print(t[\"text\"])\n",
    "#t is a dictionary\n",
    "#3rd line prints only the text\n",
    "    mydict_obj={}\n",
    "    mydict_obj[\"daytime\"]=t[\"created_at\"]\n",
    "    mydict_obj[\"text\"]=t[\"text\"]\n",
    "    mydict_obj[\"id\"]=t[\"id\"]\n",
    "    tweets.append(mydict_obj)\n",
    "    \n",
    "#tweets is a list of dictionaries"
   ]
  },
  {
   "cell_type": "code",
   "execution_count": 22,
   "metadata": {},
   "outputs": [
    {
     "name": "stdout",
     "output_type": "stream",
     "text": [
      "{'daytime': 'Tue May 28 03:21:28 +0000 2019', 'text': 'Regula Sub-rosa: Latent Backdoor Attacks on Deep Neural Networks. https://t.co/g4yojQBl6I', 'id': 1133211661278429184}\n",
      "{'daytime': 'Tue May 28 03:01:18 +0000 2019', 'text': \"Mariatta Wijaya: Let's Use GitHub Issues Already! https://t.co/fHKpJg2Ate\", 'id': 1133206586091032577}\n",
      "{'daytime': 'Tue May 28 02:25:10 +0000 2019', 'text': 'Fast computation of loudness using a deep neural network. https://t.co/GBYIfknt78', 'id': 1133197493846458368}\n",
      "{'daytime': 'Mon May 27 19:45:01 +0000 2019', 'text': 'Nominations are currently open for the 2019/2020 @ThePSF board elections. The deadline to submit is June 1 (… https://t.co/ngOjGZOk2l', 'id': 1133096792336326661}\n",
      "{'daytime': 'Mon May 27 18:15:19 +0000 2019', 'text': 'You always have prior information before you do an experiment, because *something* motivated you to do the experiment.', 'id': 1133074215257681920}\n",
      "{'daytime': 'Mon May 27 14:56:37 +0000 2019', 'text': \"RT @ShraddhaAg: 📢 New blog post on @ThePracticalDev \\n\\nWhat, Why and How: Outreachy 101! \\nHere's my take on how to approach @outreachy and m…\", 'id': 1133024213688836098}\n",
      "{'daytime': 'Mon May 27 14:56:18 +0000 2019', 'text': \"RT @ushahidi: Ushahidi @outreachy intern @EbaiJenniline talks about their internship journey in\\n\\n'How I applied for Outreachy and successfu…\", 'id': 1133024131333722112}\n",
      "{'daytime': 'Mon May 27 14:55:15 +0000 2019', 'text': 'How well does sample range estimate population range? https://t.co/yR3FZgz2ze', 'id': 1133023870007631873}\n",
      "{'daytime': 'Mon May 27 12:53:38 +0000 2019', 'text': 'RT @dex816: I just published How to apply for Outreachy being a complete beginner! https://t.co/VBJxJGCe3X', 'id': 1132993261658886144}\n",
      "{'daytime': 'Mon May 27 12:10:03 +0000 2019', 'text': 'RT @danielle__lc: as much as I love web development (and I do), the simpsons will always be my true passion (check out my first foray into…', 'id': 1132982293776224256}\n",
      "{'daytime': 'Mon May 27 12:09:51 +0000 2019', 'text': 'RT @aliamcami: I had my first couple days at the internship and OMG, its amazing how much one can grow in so little time! Thank you @outrea…', 'id': 1132982244430295040}\n",
      "{'daytime': 'Mon May 27 12:09:40 +0000 2019', 'text': 'RT @rooshmeta: Now blogging about @outreachy First post on application tips and some evangelism! https://t.co/A0u7tLR6I2', 'id': 1132982198573907969}\n",
      "{'daytime': 'Mon May 27 12:09:02 +0000 2019', 'text': 'RT @himadrispandya: Here is the link to my first blog post regarding the @outreachy internship. Check it out if you want to know about What…', 'id': 1132982038007623681}\n",
      "{'daytime': 'Mon May 27 12:08:48 +0000 2019', 'text': 'RT @Vagishagupta23: Checkout my blog post on a walk-through to apply for @outreachy. The goal of this blog post is to explain to someone wh…', 'id': 1132981980914757632}\n",
      "{'daytime': 'Mon May 27 12:08:41 +0000 2019', 'text': 'RT @himadrispandya: My journey of getting selected as an @outreachy intern\\n\\nhttps://t.co/VH5SEBC3Fo', 'id': 1132981951445524482}\n",
      "{'daytime': 'Sun May 26 14:06:00 +0000 2019', 'text': 'Nominations are currently open for the 2019/2020 @ThePSF board elections. The deadline to submit is June 1 (… https://t.co/Tx88aimTEi', 'id': 1132649087289970688}\n",
      "{'daytime': 'Sat May 25 07:38:00 +0000 2019', 'text': 'The deadline to submit nominations for the @ThePSF 2019/20 board is June 1 (https://t.co/RJo8SEAmRH). If you have q… https://t.co/6heqBg7qX5', 'id': 1132189055192633349}\n",
      "{'daytime': 'Fri May 24 18:16:04 +0000 2019', 'text': 'Contribute to the PSF and get a great IDE at the same time. Purchase an individual annual subscription to PyCharm P… https://t.co/6utDGyZScS', 'id': 1131987240463286272}\n",
      "{'daytime': 'Fri May 24 18:15:24 +0000 2019', 'text': 'Deep learning is short for deep neural network machine learning.', 'id': 1131987075895648256}\n",
      "{'daytime': 'Fri May 24 15:30:19 +0000 2019', 'text': 'Nominations are currently open for the 2019/2020 @ThePSF board elections. The deadline to submit is June 1 (… https://t.co/FjCTigJteC', 'id': 1131945530559553536}\n"
     ]
    }
   ],
   "source": [
    "for val in tweets:\n",
    "    print(val)"
   ]
  },
  {
   "cell_type": "code",
   "execution_count": 44,
   "metadata": {},
   "outputs": [],
   "source": [
    "def remove_newlines(mystr):\n",
    "    mystr=mystr.replace(\"\\n\",\" \")\n",
    "    mystr=mystr.replace(\",\",\" \")\n",
    "    return mystr\n"
   ]
  },
  {
   "cell_type": "code",
   "execution_count": 40,
   "metadata": {},
   "outputs": [],
   "source": [
    "    \n",
    "filename=\"mytweetsfile.csv\"\n",
    "output_file=open(filename,\"w\",encoding = \"utf-8\")"
   ]
  },
  {
   "cell_type": "code",
   "execution_count": 41,
   "metadata": {},
   "outputs": [],
   "source": [
    "for myobj in tweets:\n",
    "    mystr=myobj[\"daytime\"] + \",\" + remove_newlines(myobj[\"text\"])\n",
    "    output_file.write(mystr)\n",
    "    output_file.write(\"\\n\")\n",
    "output_file.close()\n",
    "    \n",
    "    "
   ]
  },
  {
   "cell_type": "code",
   "execution_count": null,
   "metadata": {},
   "outputs": [],
   "source": []
  }
 ],
 "metadata": {
  "kernelspec": {
   "display_name": "Python 3",
   "language": "python",
   "name": "python3"
  },
  "language_info": {
   "codemirror_mode": {
    "name": "ipython",
    "version": 3
   },
   "file_extension": ".py",
   "mimetype": "text/x-python",
   "name": "python",
   "nbconvert_exporter": "python",
   "pygments_lexer": "ipython3",
   "version": "3.7.0"
  }
 },
 "nbformat": 4,
 "nbformat_minor": 2
}
